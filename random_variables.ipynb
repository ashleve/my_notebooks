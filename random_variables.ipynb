{
 "cells": [
  {
   "cell_type": "markdown",
   "id": "71145f60-c796-41e7-9ffe-52bc01c14d9c",
   "metadata": {},
   "source": [
    "# Discrete Random Variables"
   ]
  },
  {
   "cell_type": "code",
   "execution_count": 84,
   "id": "70ad66b0-106e-4d6a-8b91-ed44c37a24a5",
   "metadata": {},
   "outputs": [],
   "source": [
    "from numpy.random import choice\n",
    "from tqdm import tqdm"
   ]
  },
  {
   "cell_type": "code",
   "execution_count": 90,
   "id": "864e6a5f-ab42-4e0c-b558-ce0e7ec8334b",
   "metadata": {},
   "outputs": [],
   "source": [
    "choice([1, 2, 4], p=[0.2, 0.5, 0.3])\n",
    "sample = [choice([1, 2, 4], p=[0.2, 0.5, 0.3]) for _ in range(1000)]"
   ]
  },
  {
   "cell_type": "code",
   "execution_count": 91,
   "id": "10a4f61c-7f02-4e42-b468-642487d92e85",
   "metadata": {},
   "outputs": [
    {
     "name": "stderr",
     "output_type": "stream",
     "text": [
      "100%|██████████| 188888/188888 [00:03<00:00, 51742.03it/s]\n"
     ]
    }
   ],
   "source": [
    "sample = [choice([1, 2, 4], p=[0.2, 0.5, 0.3]) for _ in tqdm(range(188_888))]"
   ]
  },
  {
   "cell_type": "code",
   "execution_count": 34,
   "id": "99df5181-ab89-46b3-9f33-5d40c0552414",
   "metadata": {},
   "outputs": [
    {
     "data": {
      "text/plain": [
       "88888"
      ]
     },
     "execution_count": 34,
     "metadata": {},
     "output_type": "execute_result"
    }
   ],
   "source": [
    "len(sample)"
   ]
  },
  {
   "cell_type": "code",
   "execution_count": 35,
   "id": "6e787896-8a57-45d2-9669-affc34df3256",
   "metadata": {},
   "outputs": [
    {
     "data": {
      "text/plain": [
       "{1: 17903, 2: 44318, 4: 26667}"
      ]
     },
     "execution_count": 35,
     "metadata": {},
     "output_type": "execute_result"
    }
   ],
   "source": [
    "freq = {x: sample.count(x) for x in set(sample)}\n",
    "freq"
   ]
  },
  {
   "cell_type": "code",
   "execution_count": 36,
   "id": "d304c3e3-b497-467c-bacc-306361cb49ec",
   "metadata": {},
   "outputs": [
    {
     "data": {
      "text/plain": [
       "{1: 0.20141076410764108, 2: 0.49858248582485826, 4: 0.30000675006750066}"
      ]
     },
     "execution_count": 36,
     "metadata": {},
     "output_type": "execute_result"
    }
   ],
   "source": [
    "freq_relative = {x: sample.count(x) / len(sample) for x in set(sample)}\n",
    "freq_relative"
   ]
  },
  {
   "cell_type": "code",
   "execution_count": 45,
   "id": "8fbc1c5e-89dc-4d75-bf16-ccd41ab86e10",
   "metadata": {},
   "outputs": [
    {
     "data": {
      "text/plain": [
       "[<matplotlib.lines.Line2D at 0x7fb9bf378bb0>]"
      ]
     },
     "execution_count": 45,
     "metadata": {},
     "output_type": "execute_result"
    },
    {
     "data": {
      "image/png": "[encoded data removed]",
      "text/plain": [
       "<Figure size 432x288 with 1 Axes>"
      ]
     },
     "metadata": {
      "needs_background": "light"
     },
     "output_type": "display_data"
    }
   ],
   "source": [
    "import matplotlib.pyplot as plt\n",
    "plt.plot(list(freq_relative.keys()), list(freq_relative.values()))"
   ]
  },
  {
   "cell_type": "code",
   "execution_count": 80,
   "id": "51f7104f-f3a1-4023-aa3c-2d231f53ccec",
   "metadata": {},
   "outputs": [
    {
     "data": {
      "text/plain": [
       "<BarContainer object of 3 artists>"
      ]
     },
     "execution_count": 80,
     "metadata": {},
     "output_type": "execute_result"
    },
    {
     "data": {
      "image/png": "[encoded data removed]",
      "text/plain": [
       "<Figure size 720x360 with 1 Axes>"
      ]
     },
     "metadata": {
      "needs_background": "light"
     },
     "output_type": "display_data"
    }
   ],
   "source": [
    "plt.figure(figsize=(10, 5))\n",
    "plt.bar(list(freq_relative.keys()), list(freq_relative.values()), width=0.2, color=choice([\"g\", \"b\", \"r\", \"y\"], 3, replace=False))"
   ]
  },
  {
   "cell_type": "code",
   "execution_count": null,
   "id": "add87637-cf3c-48c0-b7d8-a1f190cd2e29",
   "metadata": {},
   "outputs": [],
   "source": []
  }
 ],
 "metadata": {
  "kernelspec": {
   "display_name": "Python 3",
   "language": "python",
   "name": "python3"
  },
  "language_info": {
   "codemirror_mode": {
    "name": "ipython",
    "version": 3
   },
   "file_extension": ".py",
   "mimetype": "text/x-python",
   "name": "python",
   "nbconvert_exporter": "python",
   "pygments_lexer": "ipython3",
   "version": "3.8.8"
  }
 },
 "nbformat": 4,
 "nbformat_minor": 5
}
